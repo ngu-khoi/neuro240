{
 "cells": [
  {
   "cell_type": "code",
   "execution_count": 1,
   "metadata": {},
   "outputs": [],
   "source": [
    "import torch\n",
    "from torch import nn\n",
    "from torch import optim\n",
    "from torchvision import datasets, transforms\n",
    "from torch.utils.data import random_split, DataLoader"
   ]
  },
  {
   "cell_type": "code",
   "execution_count": 2,
   "metadata": {},
   "outputs": [],
   "source": [
    "# Model that we use for MNIST\n",
    "# model = nn.Sequential(\n",
    "#     nn.Linear(28 * 28, 64),\n",
    "#     nn.ReLU(),\n",
    "#     nn.Linear(64, 64),\n",
    "#     nn.ReLU(),\n",
    "#     nn.Linear(64, 10),\n",
    "# )"
   ]
  },
  {
   "cell_type": "code",
   "execution_count": 3,
   "metadata": {},
   "outputs": [],
   "source": [
    "# ResNet Model\n",
    "class ResNet(nn.Module):\n",
    "    def __init__(self):\n",
    "        super().__init__()\n",
    "        self.l1 = nn.Linear (28 * 28, 64)\n",
    "        self.l2 = nn.Linear(64, 64)\n",
    "        self.l3 = nn.Linear(64, 10)\n",
    "        self.do = nn.Dropout(0.1)\n",
    "    \n",
    "    def forward(self, x): \n",
    "        h1 = nn.functional.relu(self.l1(x))\n",
    "        h2 = nn.functional.relu(self.l2(h1))\n",
    "        do = self.do(h2 + h1)\n",
    "        logits = self.l3(do)\n",
    "        return logits\n",
    "    \n",
    "model = ResNet()"
   ]
  },
  {
   "cell_type": "code",
   "execution_count": 4,
   "metadata": {},
   "outputs": [],
   "source": [
    "# Optimizer Definition\n",
    "params = model.parameters()\n",
    "optimiser = optim.SGD(model.parameters(), lr=1e-2)"
   ]
  },
  {
   "cell_type": "code",
   "execution_count": 5,
   "metadata": {},
   "outputs": [],
   "source": [
    "# Loss Definition\n",
    "loss = nn.CrossEntropyLoss()"
   ]
  },
  {
   "cell_type": "code",
   "execution_count": 6,
   "metadata": {},
   "outputs": [],
   "source": [
    "# Train / Val Data Split\n",
    "train_data = datasets.MNIST('data', train = True, download = True, transform = transforms.ToTensor())\n",
    "train, val = random_split(train_data, [55000, 5000])\n",
    "train_loader = DataLoader(train, batch_size = 32)\n",
    "val_loader = DataLoader(val, batch_size = 32)"
   ]
  },
  {
   "cell_type": "code",
   "execution_count": 7,
   "metadata": {},
   "outputs": [
    {
     "name": "stdout",
     "output_type": "stream",
     "text": [
      "Epoch 1, Loss: 0.82\n",
      "Epoch 1, Accuracy: 0.79\n",
      "Epoch 1, Val Loss: 0.44\n",
      "Epoch 2, Loss: 0.38\n",
      "Epoch 2, Accuracy: 0.89\n",
      "Epoch 2, Val Loss: 0.36\n",
      "Epoch 3, Loss: 0.32\n",
      "Epoch 3, Accuracy: 0.91\n",
      "Epoch 3, Val Loss: 0.30\n",
      "Epoch 4, Loss: 0.28\n",
      "Epoch 4, Accuracy: 0.92\n",
      "Epoch 4, Val Loss: 0.27\n",
      "Epoch 5, Loss: 0.24\n",
      "Epoch 5, Accuracy: 0.93\n",
      "Epoch 5, Val Loss: 0.25\n"
     ]
    }
   ],
   "source": [
    "# Training Loops\n",
    "nb_epochs = 5\n",
    "for epoch in range(nb_epochs):\n",
    "  losses = list()\n",
    "  accuracies = list()\n",
    "  model.train()\n",
    "\n",
    "  for batch in train_loader:\n",
    "    x, y = batch\n",
    "\n",
    "    # x: b x 1 x 28 x 28\n",
    "    b = x.size(0)\n",
    "    x = x.view(b, -1)\n",
    "\n",
    "    # Step 1: Forward\n",
    "    logit = model(x) \n",
    "\n",
    "    # Step 2: Compute the objective function\n",
    "    J = loss(logit, y)\n",
    "\n",
    "    # Step 3: Cleaning the gradients\n",
    "    model.zero_grad()\n",
    "\n",
    "    # Step 4: Compute the partial derivatives of J with respect to parameters\n",
    "    J.backward()\n",
    "\n",
    "    # Step 5: Step in the opposite direction of the gradient\n",
    "    optimiser.step()\n",
    "\n",
    "    losses.append(J.item())\n",
    "    accuracies.append(y.eq(logit.detach().argmax(dim=1)).float().mean())\n",
    "\n",
    "  print(f\"Epoch {epoch + 1}, Loss: {torch.tensor(losses).mean():.2f}\")\n",
    "  print(f\"Epoch {epoch + 1}, Accuracy: {torch.tensor(accuracies).mean():.2f}\")\n",
    "\n",
    "  # Validation\n",
    "  losses = list()\n",
    "  for batch in val_loader:\n",
    "    x, y = batch\n",
    "\n",
    "    # x: b x 1 x 28 x 28\n",
    "    b = x.size(0)\n",
    "    x = x.view(b, -1)\n",
    "\n",
    "    # Step 1: Forward\n",
    "    with torch.no_grad():\n",
    "      logit = model(x)\n",
    "\n",
    "    # Step 2: Compute the objective function\n",
    "    J = loss(logit, y)\n",
    "\n",
    "    losses.append(J.item())\n",
    "\n",
    "  print(f\"Epoch {epoch + 1}, Val Loss: {torch.tensor(losses).mean():.2f}\")"
   ]
  },
  {
   "cell_type": "code",
   "execution_count": null,
   "metadata": {},
   "outputs": [],
   "source": []
  }
 ],
 "metadata": {
  "kernelspec": {
   "display_name": "Python 3",
   "language": "python",
   "name": "python3"
  },
  "language_info": {
   "codemirror_mode": {
    "name": "ipython",
    "version": 3
   },
   "file_extension": ".py",
   "mimetype": "text/x-python",
   "name": "python",
   "nbconvert_exporter": "python",
   "pygments_lexer": "ipython3",
   "version": "3.9.15"
  },
  "orig_nbformat": 4,
  "vscode": {
   "interpreter": {
    "hash": "a665b5d41d17b532ea9890333293a1b812fa0b73c9c25c950b3cedf1bebd0438"
   }
  }
 },
 "nbformat": 4,
 "nbformat_minor": 2
}
